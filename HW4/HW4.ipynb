{
  "metadata": {
    "kernelspec": {
      "name": "python",
      "display_name": "Python (Pyodide)",
      "language": "python"
    },
    "language_info": {
      "codemirror_mode": {
        "name": "python",
        "version": 3
      },
      "file_extension": ".py",
      "mimetype": "text/x-python",
      "name": "python",
      "nbconvert_exporter": "python",
      "pygments_lexer": "ipython3",
      "version": "3.8"
    }
  },
  "nbformat_minor": 5,
  "nbformat": 4,
  "cells": [
    {
      "id": "edd93b8c-f940-4ef1-b3c6-cea52fc2d408",
      "cell_type": "code",
      "source": "import numpy as np\n\ndef f(t):\n    return 1 / ((1 - t)**2 + 25 * t**2)\n\ntrue_val = np.pi / 10\n\n# Gauss–Legendre nodes and weights\n\nfor n in [4, 8, 16, 32, 64, 128, 256]:\n    x, w = np.polynomial.legendre.leggauss(n)\n    # map [-1,1] → [0,1]\n    t = 0.5 * (x + 1)\n    integral = 0.5 * np.sum(w * f(t))\n    error = abs(integral - true_val)\n    print(f\"n={n:<3d}  Approx={integral:.15f}  Error={error:.2e}\")\n\n    if error < 1e-10:\n        print(f\"\\n Requirement satisfied with n={n}\\n\")\n        break",
      "metadata": {
        "trusted": true
      },
      "outputs": [
        {
          "name": "stdout",
          "output_type": "stream",
          "text": "n=4    Approx=0.315932717192223  Error=1.77e-03\nn=8    Approx=0.314213215020839  Error=5.39e-05\nn=16   Approx=0.314159265729608  Error=3.71e-10\nn=32   Approx=0.314159265358979  Error=0.00e+00\n\n Requirement satisfied with n=32\n\n"
        }
      ],
      "execution_count": 3
    },
    {
      "id": "ab64dcf4-a2a0-475f-8a1d-b68162f4f629",
      "cell_type": "code",
      "source": "import numpy as np\nfrom numpy.polynomial.legendre import leggauss\n\n# 變換後的 integrand: x = t^2 -> integrand(t) = 4 t ln t / (1 + 25 t^4)\ndef integrand_t(t):\n    return 4.0 * t * np.log(t) / (1.0 + 25.0 * t**4)\n\n# 目標誤差\ntol = 1e-10\n\n# 初始 Gauss 點數\nn = 8\nprev = None\n\nwhile True:\n    xi, wi = leggauss(n)           # nodes, weights on [-1,1]\n    t = 0.5 * (xi + 1.0)           # map to [0,1]\n    w = 0.5 * wi                   # adjusted weights\n    I = np.sum(w * integrand_t(t))\n    if prev is not None and abs(I - prev) < tol:\n        break\n    prev = I\n    n *= 2\n    if n > 16384:\n        # safety break to avoid infinite loop in pathological cases\n        break\n\nprint(f\"Integral ≈ {I:.12e}\")\nprint(f\"Gauss-Legendre points used: n = {n}\")",
      "metadata": {
        "trusted": true
      },
      "outputs": [
        {
          "name": "stdout",
          "output_type": "stream",
          "text": "Integral ≈ -5.454445634207e-01\nGauss-Legendre points used: n = 1024\n"
        }
      ],
      "execution_count": 8
    },
    {
      "id": "87bab340-9f73-4d3d-b23f-5316ea3e0aa8",
      "cell_type": "code",
      "source": "",
      "metadata": {
        "trusted": true
      },
      "outputs": [],
      "execution_count": null
    }
  ]
}
